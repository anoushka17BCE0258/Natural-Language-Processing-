{
 "cells": [
  {
   "cell_type": "code",
   "execution_count": 1,
   "metadata": {},
   "outputs": [],
   "source": [
    "import spacy\n",
    "from spacy.tokenizer import Tokenizer\n",
    "from spacy.lang.en import English"
   ]
  },
  {
   "cell_type": "code",
   "execution_count": 2,
   "metadata": {},
   "outputs": [
    {
     "name": "stdout",
     "output_type": "stream",
     "text": [
      "BTS,\n",
      "also\n",
      "known\n",
      "as\n",
      "the\n",
      "Bangtan\n",
      "Boys,\n",
      "is\n",
      "a\n",
      "seven-member\n",
      "South\n",
      "Korean\n",
      "boy\n",
      "band\n",
      "formed\n",
      "in\n",
      "Seoul\n",
      "in\n",
      "2010.\n",
      "The\n",
      "septet\n",
      "co-writes\n",
      "and\n",
      "produces\n",
      "much\n",
      "of\n",
      "their\n",
      "output.\n",
      "Originally\n",
      "a\n",
      "hip\n",
      "hop\n",
      "group,\n",
      "their\n",
      "musical\n",
      "style\n",
      "has\n",
      "evolved\n",
      "to\n",
      "include\n",
      "a\n",
      "wide\n",
      "range\n",
      "of\n",
      "genres.\n"
     ]
    }
   ],
   "source": [
    "str='''BTS, also known as the Bangtan Boys, is a seven-member South Korean boy band formed in Seoul in 2010. The septet co-writes and produces much of their output. Originally a hip hop group, their musical style has evolved to include a wide range of genres.'''\n",
    "nlp=English()\n",
    "tokenizer=Tokenizer(nlp.vocab)\n",
    "tokens=tokenizer(str)\n",
    "for token in tokens:\n",
    "    print(token)"
   ]
  },
  {
   "cell_type": "code",
   "execution_count": 4,
   "metadata": {},
   "outputs": [
    {
     "name": "stdout",
     "output_type": "stream",
     "text": [
      "BTS \t bts \t NOUN \t NN \t nsubj \t XXX \t True \t False\n",
      ", \t , \t PUNCT \t , \t punct \t , \t False \t False\n",
      "also \t also \t ADV \t RB \t advmod \t xxxx \t True \t True\n",
      "known \t know \t VERB \t VBN \t acl \t xxxx \t True \t False\n",
      "as \t as \t SCONJ \t IN \t prep \t xx \t True \t True\n",
      "the \t the \t DET \t DT \t det \t xxx \t True \t True\n",
      "Bangtan \t Bangtan \t PROPN \t NNP \t compound \t Xxxxx \t True \t False\n",
      "Boys \t Boys \t PROPN \t NNPS \t pobj \t Xxxx \t True \t False\n",
      ", \t , \t PUNCT \t , \t punct \t , \t False \t False\n",
      "is \t be \t AUX \t VBZ \t ROOT \t xx \t True \t True\n",
      "a \t a \t DET \t DT \t det \t x \t True \t True\n",
      "seven \t seven \t NUM \t CD \t nummod \t xxxx \t True \t False\n",
      "- \t - \t PUNCT \t HYPH \t punct \t - \t False \t False\n",
      "member \t member \t NOUN \t NN \t compound \t xxxx \t True \t False\n",
      "South \t south \t ADJ \t JJ \t amod \t Xxxxx \t True \t False\n",
      "Korean \t korean \t ADJ \t JJ \t amod \t Xxxxx \t True \t False\n",
      "boy \t boy \t NOUN \t NN \t compound \t xxx \t True \t False\n",
      "band \t band \t NOUN \t NN \t attr \t xxxx \t True \t False\n",
      "formed \t form \t VERB \t VBN \t acl \t xxxx \t True \t False\n",
      "in \t in \t ADP \t IN \t prep \t xx \t True \t True\n",
      "Seoul \t Seoul \t PROPN \t NNP \t pobj \t Xxxxx \t True \t False\n",
      "in \t in \t ADP \t IN \t prep \t xx \t True \t True\n",
      "2010 \t 2010 \t NUM \t CD \t pobj \t dddd \t False \t False\n",
      ". \t . \t PUNCT \t . \t punct \t . \t False \t False\n",
      "The \t the \t DET \t DT \t det \t Xxx \t True \t True\n",
      "septet \t septet \t ADJ \t JJR \t intj \t xxxx \t True \t False\n",
      "co \t co \t NOUN \t NN \t dep \t xx \t True \t False\n",
      "- \t - \t NOUN \t NNS \t dep \t - \t False \t False\n",
      "writes \t write \t VERB \t VBZ \t ROOT \t xxxx \t True \t False\n",
      "and \t and \t CCONJ \t CC \t cc \t xxx \t True \t True\n",
      "produces \t produce \t VERB \t VBZ \t conj \t xxxx \t True \t False\n",
      "much \t much \t ADJ \t JJ \t dobj \t xxxx \t True \t True\n",
      "of \t of \t ADP \t IN \t prep \t xx \t True \t True\n",
      "their \t -PRON- \t DET \t PRP$ \t poss \t xxxx \t True \t True\n",
      "output \t output \t NOUN \t NN \t pobj \t xxxx \t True \t False\n",
      ". \t . \t PUNCT \t . \t punct \t . \t False \t False\n",
      "Originally \t originally \t ADV \t RB \t advmod \t Xxxxx \t True \t False\n",
      "a \t a \t DET \t DT \t det \t x \t True \t True\n",
      "hip \t hip \t NOUN \t NN \t compound \t xxx \t True \t False\n",
      "hop \t hop \t NOUN \t NN \t compound \t xxx \t True \t False\n",
      "group \t group \t NOUN \t NN \t nsubj \t xxxx \t True \t False\n",
      ", \t , \t PUNCT \t , \t punct \t , \t False \t False\n",
      "their \t -PRON- \t DET \t PRP$ \t poss \t xxxx \t True \t True\n",
      "musical \t musical \t ADJ \t JJ \t amod \t xxxx \t True \t False\n",
      "style \t style \t NOUN \t NN \t nsubj \t xxxx \t True \t False\n",
      "has \t have \t AUX \t VBZ \t aux \t xxx \t True \t True\n",
      "evolved \t evolve \t VERB \t VBN \t ROOT \t xxxx \t True \t False\n",
      "to \t to \t PART \t TO \t aux \t xx \t True \t True\n",
      "include \t include \t VERB \t VB \t xcomp \t xxxx \t True \t False\n",
      "a \t a \t DET \t DT \t det \t x \t True \t True\n",
      "wide \t wide \t ADJ \t JJ \t amod \t xxxx \t True \t False\n",
      "range \t range \t NOUN \t NN \t dobj \t xxxx \t True \t False\n",
      "of \t of \t ADP \t IN \t prep \t xx \t True \t True\n",
      "genres \t genre \t NOUN \t NNS \t pobj \t xxxx \t True \t False\n",
      ". \t . \t PUNCT \t . \t punct \t . \t False \t False\n"
     ]
    }
   ],
   "source": [
    "spacy.prefer_gpu()\n",
    "nlp = spacy.load(\"en_core_web_sm\")\n",
    "doc=nlp(str)\n",
    "for token in doc:\n",
    "    print(token.text, '\\t', token.lemma_,'\\t', token.pos_, '\\t',token.tag_, '\\t',token.dep_, '\\t',token.shape_, '\\t',token.is_alpha, '\\t',token.is_stop)"
   ]
  },
  {
   "cell_type": "code",
   "execution_count": 5,
   "metadata": {},
   "outputs": [
    {
     "name": "stdout",
     "output_type": "stream",
     "text": [
      "punctuation\n"
     ]
    }
   ],
   "source": [
    "print(spacy.explain('punct'))"
   ]
  },
  {
   "cell_type": "code",
   "execution_count": 6,
   "metadata": {},
   "outputs": [
    {
     "name": "stdout",
     "output_type": "stream",
     "text": [
      "None\n"
     ]
    }
   ],
   "source": [
    "print(spacy.explain('dep_'))"
   ]
  },
  {
   "cell_type": "code",
   "execution_count": 7,
   "metadata": {},
   "outputs": [
    {
     "name": "stdout",
     "output_type": "stream",
     "text": [
      "None\n"
     ]
    }
   ],
   "source": [
    "print(spacy.explain('explain'))"
   ]
  },
  {
   "cell_type": "code",
   "execution_count": 8,
   "metadata": {},
   "outputs": [
    {
     "data": {
      "text/plain": [
       "'coordinating conjunction'"
      ]
     },
     "execution_count": 8,
     "metadata": {},
     "output_type": "execute_result"
    }
   ],
   "source": [
    "spacy.explain('CCONJ')"
   ]
  },
  {
   "cell_type": "code",
   "execution_count": 9,
   "metadata": {},
   "outputs": [
    {
     "name": "stdout",
     "output_type": "stream",
     "text": [
      "['Willard', 'Carroll', 'Smith', 'Jr.', '(', 'born', 'September', '25', ',', '1968', ')', 'is', 'an', 'American', 'actor', 'and', 'rapper.[4', ']', 'In', 'April', '2007', ',', 'Newsweek', 'called', 'him', '\"', 'the', 'most', 'powerful', 'actor', 'in', 'Hollywood\".[5', ']', 'Smith', 'has', 'been', 'nominated', 'for', 'five', 'Golden', 'Globe', 'Awards', 'and', 'two', 'Academy', 'Awards', ',', 'and', 'has', 'won', 'four', 'Grammy', 'Awards', '.']\n",
      "['Willard', 'Carroll', 'Smith', 'Jr.', '(', 'born', 'September', '25', ',', '1968', ')', 'American', 'actor', 'rapper.[4', ']', 'April', '2007', ',', 'Newsweek', 'called', '\"', 'powerful', 'actor', 'Hollywood\".[5', ']', 'Smith', 'nominated', 'Golden', 'Globe', 'Awards', 'Academy', 'Awards', ',', 'won', 'Grammy', 'Awards', '.']\n",
      "37\n"
     ]
    }
   ],
   "source": [
    "from spacy.lang.en import English\n",
    "\n",
    "# Load English tokenizer, tagger, parser, NER and word vectors\n",
    "nlp = English()\n",
    "\n",
    "text = '''Willard Carroll Smith Jr. (born September 25, 1968) is an American actor and rapper.[4] In April 2007, Newsweek called him \"the most powerful actor in Hollywood\".[5] Smith has been nominated for five Golden Globe Awards and two Academy Awards, and has won four Grammy Awards.'''\n",
    "\n",
    "#  \"nlp\" Object is used to create documents with linguistic annotations.\n",
    "my_doc = nlp(text)\n",
    "\n",
    "# Create list of word tokens\n",
    "token_list = []\n",
    "for token in my_doc:\n",
    "    token_list.append(token.text)\n",
    "\n",
    "from spacy.lang.en.stop_words import STOP_WORDS\n",
    "\n",
    "# Create list of word tokens after removing stopwords\n",
    "filtered_sentence =[] \n",
    "\n",
    "for word in token_list:\n",
    "    lexeme = nlp.vocab[word]\n",
    "    if lexeme.is_stop == False:\n",
    "        filtered_sentence.append(word) \n",
    "print(token_list)\n",
    "print(filtered_sentence)\n",
    "print(len(filtered_sentence))"
   ]
  },
  {
   "cell_type": "code",
   "execution_count": null,
   "metadata": {},
   "outputs": [],
   "source": []
  }
 ],
 "metadata": {
  "kernelspec": {
   "display_name": "Python 3",
   "language": "python",
   "name": "python3"
  },
  "language_info": {
   "codemirror_mode": {
    "name": "ipython",
    "version": 3
   },
   "file_extension": ".py",
   "mimetype": "text/x-python",
   "name": "python",
   "nbconvert_exporter": "python",
   "pygments_lexer": "ipython3",
   "version": "3.7.4"
  }
 },
 "nbformat": 4,
 "nbformat_minor": 2
}
