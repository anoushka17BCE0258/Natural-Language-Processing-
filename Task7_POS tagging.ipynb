{
 "cells": [
  {
   "cell_type": "code",
   "execution_count": 5,
   "metadata": {},
   "outputs": [
    {
     "name": "stdout",
     "output_type": "stream",
     "text": [
      "POS TAGGER\n"
     ]
    }
   ],
   "source": [
    "print(\"POS TAGGER\")"
   ]
  },
  {
   "cell_type": "code",
   "execution_count": 6,
   "metadata": {},
   "outputs": [],
   "source": [
    "import nltk \n",
    "from nltk.corpus import stopwords \n",
    "from nltk.tokenize import word_tokenize, sent_tokenize \n",
    "stop_words = set(stopwords.words('english')) \n",
    "txt = (\"Following the establishment of their Love Myself anti-violence campaign in partnership with UNICEF, BTS addressed the United Nations 73rd General Assembly and became the youngest ever recipients of the Order of Cultural Merit from the President of South Korea due to their contributions in spreading Korean culture and language.\")\n"
   ]
  },
  {
   "cell_type": "code",
   "execution_count": 7,
   "metadata": {},
   "outputs": [
    {
     "name": "stdout",
     "output_type": "stream",
     "text": [
      "[('Following', 'VBG'), ('establishment', 'NN'), ('Love', 'NNP'), ('Myself', 'NNP'), ('anti-violence', 'NN'), ('campaign', 'NN'), ('partnership', 'NN'), ('UNICEF', 'NNP'), (',', ','), ('BTS', 'NNP'), ('addressed', 'VBD'), ('United', 'NNP'), ('Nations', 'NNP'), ('73rd', 'CD'), ('General', 'NNP'), ('Assembly', 'NNP'), ('became', 'VBD'), ('youngest', 'JJS'), ('ever', 'RB'), ('recipients', 'NNS'), ('Order', 'NNP'), ('Cultural', 'NNP'), ('Merit', 'NNP'), ('President', 'NNP'), ('South', 'NNP'), ('Korea', 'NNP'), ('due', 'JJ'), ('contributions', 'NNS'), ('spreading', 'VBG'), ('Korean', 'JJ'), ('culture', 'NN'), ('language', 'NN'), ('.', '.')]\n"
     ]
    }
   ],
   "source": [
    "tokenized = sent_tokenize(txt) \n",
    "for i in tokenized: \n",
    "      \n",
    "    # Word tokenizers is used to find the words  \n",
    "    # and punctuation in a string \n",
    "    wordsList = nltk.word_tokenize(i) \n",
    "  \n",
    "    # removing stop words from wordList \n",
    "    wordsList = [w for w in wordsList if not w in stop_words]  \n",
    "  \n",
    "    #  Using a Tagger. Which is part-of-speech  \n",
    "    # tagger or POS-tagger.  \n",
    "    tagged = nltk.pos_tag(wordsList) \n",
    "  \n",
    "    print(tagged) "
   ]
  },
  {
   "cell_type": "code",
   "execution_count": null,
   "metadata": {},
   "outputs": [],
   "source": []
  }
 ],
 "metadata": {
  "kernelspec": {
   "display_name": "Python 3",
   "language": "python",
   "name": "python3"
  },
  "language_info": {
   "codemirror_mode": {
    "name": "ipython",
    "version": 3
   },
   "file_extension": ".py",
   "mimetype": "text/x-python",
   "name": "python",
   "nbconvert_exporter": "python",
   "pygments_lexer": "ipython3",
   "version": "3.7.4"
  }
 },
 "nbformat": 4,
 "nbformat_minor": 2
}
