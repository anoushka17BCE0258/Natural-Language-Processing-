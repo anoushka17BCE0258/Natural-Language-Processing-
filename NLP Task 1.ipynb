{
 "cells": [
  {
   "cell_type": "markdown",
   "metadata": {},
   "source": [
    "TASK 1: Representing text and paragraph in string format"
   ]
  },
  {
   "cell_type": "code",
   "execution_count": 3,
   "metadata": {},
   "outputs": [],
   "source": [
    "\n",
    "a='''Shakespeare was born and raised in Stratford-upon-Avon, Warwickshire. At the age of 18, he married Anne Hathaway, with whom he had three children: Susanna and twins Hamnet and Judith. \n",
    "Sometime between 1585 and 1592, he began a successful career in London as an actor, writer, and part-owner of a playing company called the Lord Chamberlain's Men, later known as the King's Men. \n",
    "At age 49 (around 1613), he appears to have retired to Stratford, where he died three years later. \n",
    "Few records of Shakespeare's private life survive; this has stimulated considerable speculation about such matters as his physical appearance, his sexuality, his religious beliefs, and whether the works attributed to him were written by others'''\n",
    "\n",
    "a1=\"William Shakespeare\"\n",
    "\n",
    "a2='Greatest writer in the English language'"
   ]
  },
  {
   "cell_type": "code",
   "execution_count": 4,
   "metadata": {},
   "outputs": [
    {
     "name": "stdout",
     "output_type": "stream",
     "text": [
      "Shakespeare was born and raised in Stratford-upon-Avon, Warwickshire. At the age of 18, he married Anne Hathaway, with whom he had three children: Susanna and twins Hamnet and Judith. \n",
      "Sometime between 1585 and 1592, he began a successful career in London as an actor, writer, and part-owner of a playing company called the Lord Chamberlain's Men, later known as the King's Men. \n",
      "At age 49 (around 1613), he appears to have retired to Stratford, where he died three years later. \n",
      "Few records of Shakespeare's private life survive; this has stimulated considerable speculation about such matters as his physical appearance, his sexuality, his religious beliefs, and whether the works attributed to him were written by others\n",
      "William Shakespeare\n",
      "Greatest writer in the English language\n"
     ]
    }
   ],
   "source": [
    "print(a)\n",
    "print(a1)\n",
    "print(a2)"
   ]
  },
  {
   "cell_type": "code",
   "execution_count": 5,
   "metadata": {},
   "outputs": [
    {
     "name": "stdout",
     "output_type": "stream",
     "text": [
      "झीनी-झीनी बीनी चदरिया,\n",
      "काहे कै ताना, काहै कै भरनी, कौन तार से बीनी चदरिया।\n",
      "इंगला पिंगला ताना भरनी, सुखमन तार से बीनी चदरिया॥\n",
      "आठ कँवल दल चरखा डोलै, पाँच तत्त गुन तीनी चदरिया।\n",
      "साँई को सियत मास दस लागै, ठोक-ठोक कै बीनी चदरिया॥\n",
      "सो चादर सुर नर मुनि ओढ़ी, ओढ़ी कै मैली कीनी चदरिया।\n",
      "दास ‘कबीर’ जतन से ओढ़ी, ज्यों की त्यों धरि दीनी चदरिया॥\n"
     ]
    }
   ],
   "source": [
    "b='''झीनी-झीनी बीनी चदरिया,\n",
    "काहे कै ताना, काहै कै भरनी, कौन तार से बीनी चदरिया।\n",
    "इंगला पिंगला ताना भरनी, सुखमन तार से बीनी चदरिया॥\n",
    "आठ कँवल दल चरखा डोलै, पाँच तत्त गुन तीनी चदरिया।\n",
    "साँई को सियत मास दस लागै, ठोक-ठोक कै बीनी चदरिया॥\n",
    "सो चादर सुर नर मुनि ओढ़ी, ओढ़ी कै मैली कीनी चदरिया।\n",
    "दास ‘कबीर’ जतन से ओढ़ी, ज्यों की त्यों धरि दीनी चदरिया॥'''\n",
    "print(b)"
   ]
  },
  {
   "cell_type": "code",
   "execution_count": null,
   "metadata": {},
   "outputs": [],
   "source": []
  }
 ],
 "metadata": {
  "kernelspec": {
   "display_name": "Python 3",
   "language": "python",
   "name": "python3"
  },
  "language_info": {
   "codemirror_mode": {
    "name": "ipython",
    "version": 3
   },
   "file_extension": ".py",
   "mimetype": "text/x-python",
   "name": "python",
   "nbconvert_exporter": "python",
   "pygments_lexer": "ipython3",
   "version": "3.7.4"
  }
 },
 "nbformat": 4,
 "nbformat_minor": 2
}
